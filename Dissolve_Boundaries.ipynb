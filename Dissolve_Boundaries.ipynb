{
 "cells": [
  {
   "cell_type": "code",
   "execution_count": 1,
   "metadata": {},
   "outputs": [],
   "source": [
    "import arcpy\n",
    "from arcpy import env\n",
    "import os\n",
    "import numpy as np\n",
    "import arcgis\n",
    "from arcgis import GIS\n",
    "from arcgis.features import GeoAccessor\n",
    "from arcgis.features import GeoSeriesAccessor\n",
    "import pandas as pd\n",
    "\n",
    "arcpy.env.overwriteOutput = True\n",
    "arcpy.env.parallelProcessingFactor = \"90%\"\n",
    "\n",
    "# show all columns\n",
    "pd.options.display.max_columns = None\n",
    "\n",
    "# pd.DataFrame.spatial.from_featureclass(???)  \n",
    "# df.spatial.to_featureclass(location=???,sanitize_columns=False)  \n",
    "\n",
    "# gsa = arcgis.features.GeoSeriesAccessor(df['SHAPE'])  \n",
    "# df['AREA'] = gsa.area  # KNOW YOUR UNITS"
   ]
  },
  {
   "cell_type": "code",
   "execution_count": 2,
   "metadata": {},
   "outputs": [],
   "source": [
    "# fill NA values in Spatially enabled dataframes (ignores SHAPE column)\n",
    "def fill_na_sedf(df_with_shape_column, fill_value=0):\n",
    "    if 'SHAPE' in list(df_with_shape_column.columns):\n",
    "        df = df_with_shape_column.copy()\n",
    "        shape_column = df['SHAPE'].copy()\n",
    "        del df['SHAPE']\n",
    "        return df.fillna(fill_value).merge(shape_column,left_index=True, right_index=True, how='inner')\n",
    "    else:\n",
    "        raise Exception(\"Dataframe does not include 'SHAPE' column\")"
   ]
  },
  {
   "cell_type": "code",
   "execution_count": 3,
   "metadata": {},
   "outputs": [],
   "source": [
    "if not os.path.exists('Outputs'):\n",
    "    os.makedirs('Outputs')\n",
    "    \n",
    "outputs = ['.\\\\Outputs', \"scratch.gdb\", 'results.gdb']\n",
    "gdb = os.path.join(outputs[0], outputs[1])\n",
    "gdb2 = os.path.join(outputs[0], outputs[2])\n",
    "\n",
    "if not arcpy.Exists(gdb):\n",
    "    arcpy.CreateFileGDB_management(outputs[0], outputs[1])\n",
    "\n",
    "if not arcpy.Exists(gdb2):\n",
    "    arcpy.CreateFileGDB_management(outputs[0], outputs[2])"
   ]
  },
  {
   "cell_type": "code",
   "execution_count": 4,
   "metadata": {},
   "outputs": [],
   "source": [
    "taz = pd.DataFrame.spatial.from_featureclass(r\"E:\\Tasks\\MICROZONES\\Inputs\\TAZ.shp\") \n",
    "buildings = pd.DataFrame.spatial.from_featureclass(r'E:\\Projects\\REMM-Manage-Base-Year-Data\\Current_Inputs\\remm_base_year.gdb\\buildings')\n",
    "roads = pd.DataFrame.spatial.from_featureclass(r\"E:\\Tasks\\MICROZONES\\Inputs\\Roads.shp\")"
   ]
  },
  {
   "cell_type": "code",
   "execution_count": 5,
   "metadata": {},
   "outputs": [
    {
     "data": {
      "text/plain": [
       "'e:\\\\Tasks\\\\MICROZONES\\\\Outputs\\\\scratch.gdb\\\\taz_wf'"
      ]
     },
     "execution_count": 5,
     "metadata": {},
     "output_type": "execute_result"
    }
   ],
   "source": [
    "taz_wf = taz[taz['SUBAREAID']==1].copy()\n",
    "taz_wf.spatial.to_featureclass(location=os.path.join(gdb, 'taz_wf'),sanitize_columns=False) "
   ]
  },
  {
   "cell_type": "code",
   "execution_count": 6,
   "metadata": {},
   "outputs": [
    {
     "data": {
      "text/plain": [
       "Index(['OBJECTID', 'parcel_id', 'building_id', 'building_sqft',\n",
       "       'building_type_id', 'non_residential_sqft', 'note', 'residential_units',\n",
       "       'stories', 'unit_price_non_residential', 'year_built',\n",
       "       'res_price_per_sqft', 'job_spaces', 'building_type_id2', 'basebldg',\n",
       "       'building_type', 'SHAPE'],\n",
       "      dtype='object')"
      ]
     },
     "execution_count": 6,
     "metadata": {},
     "output_type": "execute_result"
    }
   ],
   "source": [
    "buildings.columns"
   ]
  },
  {
   "cell_type": "code",
   "execution_count": 7,
   "metadata": {},
   "outputs": [
    {
     "data": {
      "text/plain": [
       "'e:\\\\Tasks\\\\MICROZONES\\\\Outputs\\\\scratch.gdb\\\\land_use'"
      ]
     },
     "execution_count": 7,
     "metadata": {},
     "output_type": "execute_result"
    }
   ],
   "source": [
    "# buildings = buildings[buildings['basebldg'] == 1].copy()\n",
    "land_use = buildings[['parcel_id', 'building_type_id', 'building_type_id2', 'building_type', 'residential_units', 'basebldg', 'SHAPE']].copy()\n",
    "\n",
    "lu = {0:'vacant',\n",
    " 1:'residential', \n",
    " 2:'residential', \n",
    " 3:'industrial', \n",
    " 4:'commercial', \n",
    " 5:'commercial', \n",
    " 6:'govt', \n",
    " 7:'commercial', \n",
    " 8:'other', \n",
    " 9:'govt', \n",
    " 10:'govt', \n",
    " 11:'commercial', \n",
    " 12:'other', \n",
    " 13:'govt',\n",
    " 14:'vacant',\n",
    " 15:'vacant',\n",
    " 16:'other',\n",
    " 99:'vacant'\n",
    " }\n",
    "\n",
    "land_use['land_use'] = land_use['building_type_id2'].map(lu)\n",
    "\n",
    "land_use.loc[land_use['residential_units'] >= 8, 'land_use'] = 'multifamily'\n",
    "land_use.spatial.to_featureclass(location=os.path.join(gdb, 'land_use'),sanitize_columns=False) \n",
    "\n",
    "# # calculate # acreage and filter small parcels\n",
    "# gsa = arcgis.features.GeoSeriesAccessor(land_use['SHAPE'])  \n",
    "# land_use['AREA'] = gsa.area * 0.000247105\n",
    "\n",
    "# # land_use = land_use[land_use['AREA']> ]"
   ]
  },
  {
   "cell_type": "code",
   "execution_count": 9,
   "metadata": {},
   "outputs": [
    {
     "data": {
      "text/html": [
       "<div class='gpresult'><h2>Messages</h2><div id='messages' data-messages='[\"Start Time: Friday, May 10, 2024 4:12:00 PM\",\"Sorting Attributes...\",\"Dissolving...\",\"Succeeded at Friday, May 10, 2024 4:15:36 PM (Elapsed Time: 3 minutes 36 seconds)\"]' data-show='true'><div id = 'default' /></div></div>"
      ],
      "text/plain": [
       "<Result '.\\\\Outputs\\\\scratch.gdb\\\\land_use_dissolved'>"
      ]
     },
     "execution_count": 9,
     "metadata": {},
     "output_type": "execute_result"
    }
   ],
   "source": [
    "arcpy.management.Dissolve(os.path.join(gdb, 'land_use'), os.path.join(gdb, 'land_use_dissolved'), 'land_use', \"\", \n",
    "                          \"SINGLE_PART\", \"DISSOLVE_LINES\")"
   ]
  },
  {
   "cell_type": "code",
   "execution_count": null,
   "metadata": {},
   "outputs": [],
   "source": []
  }
 ],
 "metadata": {
  "kernelspec": {
   "display_name": "Python 3.7.11",
   "language": "python",
   "name": "python3"
  },
  "language_info": {
   "codemirror_mode": {
    "name": "ipython",
    "version": 3
   },
   "file_extension": ".py",
   "mimetype": "text/x-python",
   "name": "python",
   "nbconvert_exporter": "python",
   "pygments_lexer": "ipython3",
   "version": "3.9.11"
  },
  "orig_nbformat": 4,
  "vscode": {
   "interpreter": {
    "hash": "3245673af07dcc28bdd829afb187282e9288a1f8195a5928b70ecba6e5973721"
   }
  }
 },
 "nbformat": 4,
 "nbformat_minor": 2
}
